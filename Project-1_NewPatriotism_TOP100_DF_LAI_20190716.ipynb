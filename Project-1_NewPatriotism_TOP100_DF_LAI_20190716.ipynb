{
 "cells": [
  {
   "cell_type": "code",
   "execution_count": 1,
   "metadata": {},
   "outputs": [],
   "source": [
    "import json\n",
    "import praw\n",
    "import requests\n",
    "import pandas as pd\n",
    "from pprint import pprint\n",
    "import numpy as np\n",
    "import datetime\n",
    "import matplotlib.pyplot as plt "
   ]
  },
  {
   "cell_type": "code",
   "execution_count": 2,
   "metadata": {},
   "outputs": [],
   "source": [
    "url = \"https://www.reddit.com/\"\n",
    "with open(\"credentials.json\") as f:\n",
    "    params = json.load(f)"
   ]
  },
  {
   "cell_type": "code",
   "execution_count": 3,
   "metadata": {},
   "outputs": [],
   "source": [
    "reddit = praw.Reddit(client_id=params['client_id'], \n",
    "                     client_secret=params['api_key'],\n",
    "                     password=params['password'], \n",
    "                     user_agent='<name it something descriptive> accessAPI:v0.0.1 (by /u/<yourusername>)',\n",
    "                     username=params['username'])"
   ]
  },
  {
   "cell_type": "code",
   "execution_count": 4,
   "metadata": {},
   "outputs": [],
   "source": [
    "newpatriotism = reddit.subreddit(\"newpatriotism\")"
   ]
  },
  {
   "cell_type": "code",
   "execution_count": 5,
   "metadata": {},
   "outputs": [],
   "source": [
    "newpatriotism_dict = {\"Author\": [],\n",
    "                     \"Score\": [],\n",
    "                     \"Upvote Ratio\": [],\n",
    "                     \"Comments\": [],\n",
    "                     \"Date\": []\n",
    "                     }\n",
    "\n",
    "def get_date(submission):\n",
    "    time = submission.created\n",
    "    return datetime.datetime.fromtimestamp(time)\n",
    "\n",
    "for submission in newpatriotism.top(\"year\", limit = 100):\n",
    "    newpatriotism_dict[\"Author\"].append(submission.author)\n",
    "    newpatriotism_dict[\"Score\"].append(submission.score)\n",
    "    newpatriotism_dict[\"Upvote Ratio\"].append(submission.upvote_ratio)\n",
    "    newpatriotism_dict[\"Comments\"].append(submission.num_comments)\n",
    "    newpatriotism_dict[\"Date\"].append(get_date(submission))"
   ]
  },
  {
   "cell_type": "code",
   "execution_count": 14,
   "metadata": {},
   "outputs": [
    {
     "data": {
      "text/html": [
       "<div>\n",
       "<style scoped>\n",
       "    .dataframe tbody tr th:only-of-type {\n",
       "        vertical-align: middle;\n",
       "    }\n",
       "\n",
       "    .dataframe tbody tr th {\n",
       "        vertical-align: top;\n",
       "    }\n",
       "\n",
       "    .dataframe thead th {\n",
       "        text-align: right;\n",
       "    }\n",
       "</style>\n",
       "<table border=\"1\" class=\"dataframe\">\n",
       "  <thead>\n",
       "    <tr style=\"text-align: right;\">\n",
       "      <th></th>\n",
       "      <th>Author</th>\n",
       "      <th>Score</th>\n",
       "      <th>Upvote Ratio</th>\n",
       "      <th>Comments</th>\n",
       "      <th>Date</th>\n",
       "    </tr>\n",
       "  </thead>\n",
       "  <tbody>\n",
       "    <tr>\n",
       "      <th>0</th>\n",
       "      <td>PurpleAngel23</td>\n",
       "      <td>8637</td>\n",
       "      <td>0.84</td>\n",
       "      <td>303</td>\n",
       "      <td>2019-05-09 01:05:52</td>\n",
       "    </tr>\n",
       "    <tr>\n",
       "      <th>1</th>\n",
       "      <td>chabanais</td>\n",
       "      <td>7085</td>\n",
       "      <td>0.71</td>\n",
       "      <td>347</td>\n",
       "      <td>2019-03-11 22:05:37</td>\n",
       "    </tr>\n",
       "    <tr>\n",
       "      <th>2</th>\n",
       "      <td>chabanais</td>\n",
       "      <td>6798</td>\n",
       "      <td>0.72</td>\n",
       "      <td>358</td>\n",
       "      <td>2019-07-11 16:57:31</td>\n",
       "    </tr>\n",
       "    <tr>\n",
       "      <th>3</th>\n",
       "      <td>elvisjulep</td>\n",
       "      <td>6630</td>\n",
       "      <td>0.63</td>\n",
       "      <td>478</td>\n",
       "      <td>2019-01-17 13:37:38</td>\n",
       "    </tr>\n",
       "    <tr>\n",
       "      <th>4</th>\n",
       "      <td>chabanais</td>\n",
       "      <td>6274</td>\n",
       "      <td>0.76</td>\n",
       "      <td>225</td>\n",
       "      <td>2019-01-20 19:20:51</td>\n",
       "    </tr>\n",
       "  </tbody>\n",
       "</table>\n",
       "</div>"
      ],
      "text/plain": [
       "          Author  Score  Upvote Ratio  Comments                Date\n",
       "0  PurpleAngel23   8637          0.84       303 2019-05-09 01:05:52\n",
       "1      chabanais   7085          0.71       347 2019-03-11 22:05:37\n",
       "2      chabanais   6798          0.72       358 2019-07-11 16:57:31\n",
       "3     elvisjulep   6630          0.63       478 2019-01-17 13:37:38\n",
       "4      chabanais   6274          0.76       225 2019-01-20 19:20:51"
      ]
     },
     "execution_count": 14,
     "metadata": {},
     "output_type": "execute_result"
    }
   ],
   "source": [
    "newpatriotism_df = pd.DataFrame(newpatriotism_dict)\n",
    "newpatriotism_df.head(5)"
   ]
  },
  {
   "cell_type": "code",
   "execution_count": null,
   "metadata": {},
   "outputs": [],
   "source": []
  }
 ],
 "metadata": {
  "kernelspec": {
   "display_name": "Python [conda env:PythonData]",
   "language": "python",
   "name": "conda-env-PythonData-py"
  },
  "language_info": {
   "codemirror_mode": {
    "name": "ipython",
    "version": 3
   },
   "file_extension": ".py",
   "mimetype": "text/x-python",
   "name": "python",
   "nbconvert_exporter": "python",
   "pygments_lexer": "ipython3",
   "version": "3.6.8"
  }
 },
 "nbformat": 4,
 "nbformat_minor": 2
}
