{
 "cells": [
  {
   "cell_type": "code",
   "execution_count": 1,
   "metadata": {},
   "outputs": [],
   "source": [
    "import json\n",
    "import praw\n",
    "import requests\n",
    "import pandas as pd\n",
    "from pprint import pprint\n",
    "import numpy as np\n",
    "import datetime\n",
    "import matplotlib.pyplot as plt "
   ]
  },
  {
   "cell_type": "code",
   "execution_count": 2,
   "metadata": {},
   "outputs": [],
   "source": [
    "url = \"https://www.reddit.com/\"\n",
    "with open(\"credentials.json\") as f:\n",
    "    params = json.load(f)"
   ]
  },
  {
   "cell_type": "code",
   "execution_count": 3,
   "metadata": {},
   "outputs": [],
   "source": [
    "reddit = praw.Reddit(client_id=params['client_id'], \n",
    "                     client_secret=params['api_key'],\n",
    "                     password=params['password'], \n",
    "                     user_agent='<name it something descriptive> accessAPI:v0.0.1 (by /u/<yourusername>)',\n",
    "                     username=params['username'])"
   ]
  },
  {
   "cell_type": "code",
   "execution_count": 4,
   "metadata": {},
   "outputs": [],
   "source": [
    "conservatives = reddit.subreddit(\"conservatives\")"
   ]
  },
  {
   "cell_type": "code",
   "execution_count": 5,
   "metadata": {},
   "outputs": [],
   "source": [
    "conservatives_dict = {\"Author\": [],\n",
    "                     \"Score\": [],\n",
    "                     \"Upvote Ratio\": [],\n",
    "                     \"Comments\": [],\n",
    "                     \"Date\": []\n",
    "                     }\n",
    "\n",
    "def get_date(submission):\n",
    "    time = submission.created\n",
    "    return datetime.datetime.fromtimestamp(time)\n",
    "\n",
    "for submission in conservatives.top(\"year\", limit = 100):\n",
    "    conservatives_dict[\"Author\"].append(submission.author)\n",
    "    conservatives_dict[\"Score\"].append(submission.score)\n",
    "    conservatives_dict[\"Upvote Ratio\"].append(submission.upvote_ratio)\n",
    "    conservatives_dict[\"Comments\"].append(submission.num_comments)\n",
    "    conservatives_dict[\"Date\"].append(get_date(submission))"
   ]
  },
  {
   "cell_type": "code",
   "execution_count": 6,
   "metadata": {},
   "outputs": [
    {
     "data": {
      "text/html": [
       "<div>\n",
       "<style scoped>\n",
       "    .dataframe tbody tr th:only-of-type {\n",
       "        vertical-align: middle;\n",
       "    }\n",
       "\n",
       "    .dataframe tbody tr th {\n",
       "        vertical-align: top;\n",
       "    }\n",
       "\n",
       "    .dataframe thead th {\n",
       "        text-align: right;\n",
       "    }\n",
       "</style>\n",
       "<table border=\"1\" class=\"dataframe\">\n",
       "  <thead>\n",
       "    <tr style=\"text-align: right;\">\n",
       "      <th></th>\n",
       "      <th>Author</th>\n",
       "      <th>Score</th>\n",
       "      <th>Upvote Ratio</th>\n",
       "      <th>Comments</th>\n",
       "      <th>Date</th>\n",
       "    </tr>\n",
       "  </thead>\n",
       "  <tbody>\n",
       "    <tr>\n",
       "      <th>0</th>\n",
       "      <td>VaccineTruth11</td>\n",
       "      <td>388</td>\n",
       "      <td>0.87</td>\n",
       "      <td>43</td>\n",
       "      <td>2019-07-10 13:34:46</td>\n",
       "    </tr>\n",
       "    <tr>\n",
       "      <th>1</th>\n",
       "      <td>IBiteYou</td>\n",
       "      <td>334</td>\n",
       "      <td>0.92</td>\n",
       "      <td>98</td>\n",
       "      <td>2019-06-30 20:55:50</td>\n",
       "    </tr>\n",
       "    <tr>\n",
       "      <th>2</th>\n",
       "      <td>IBiteYou</td>\n",
       "      <td>323</td>\n",
       "      <td>0.87</td>\n",
       "      <td>112</td>\n",
       "      <td>2019-07-09 16:59:51</td>\n",
       "    </tr>\n",
       "    <tr>\n",
       "      <th>3</th>\n",
       "      <td>Masta45</td>\n",
       "      <td>319</td>\n",
       "      <td>0.87</td>\n",
       "      <td>10</td>\n",
       "      <td>2019-07-06 18:38:02</td>\n",
       "    </tr>\n",
       "    <tr>\n",
       "      <th>4</th>\n",
       "      <td>VaccineTruth11</td>\n",
       "      <td>312</td>\n",
       "      <td>0.94</td>\n",
       "      <td>18</td>\n",
       "      <td>2019-07-13 14:23:10</td>\n",
       "    </tr>\n",
       "  </tbody>\n",
       "</table>\n",
       "</div>"
      ],
      "text/plain": [
       "           Author  Score  Upvote Ratio  Comments                Date\n",
       "0  VaccineTruth11    388          0.87        43 2019-07-10 13:34:46\n",
       "1        IBiteYou    334          0.92        98 2019-06-30 20:55:50\n",
       "2        IBiteYou    323          0.87       112 2019-07-09 16:59:51\n",
       "3         Masta45    319          0.87        10 2019-07-06 18:38:02\n",
       "4  VaccineTruth11    312          0.94        18 2019-07-13 14:23:10"
      ]
     },
     "execution_count": 6,
     "metadata": {},
     "output_type": "execute_result"
    }
   ],
   "source": [
    "conservatives_df = pd.DataFrame(conservatives_dict)\n",
    "conservatives_df.head(5)"
   ]
  },
  {
   "cell_type": "code",
   "execution_count": null,
   "metadata": {},
   "outputs": [],
   "source": []
  }
 ],
 "metadata": {
  "kernelspec": {
   "display_name": "Python [conda env:PythonData]",
   "language": "python",
   "name": "conda-env-PythonData-py"
  },
  "language_info": {
   "codemirror_mode": {
    "name": "ipython",
    "version": 3
   },
   "file_extension": ".py",
   "mimetype": "text/x-python",
   "name": "python",
   "nbconvert_exporter": "python",
   "pygments_lexer": "ipython3",
   "version": "3.6.8"
  }
 },
 "nbformat": 4,
 "nbformat_minor": 2
}
