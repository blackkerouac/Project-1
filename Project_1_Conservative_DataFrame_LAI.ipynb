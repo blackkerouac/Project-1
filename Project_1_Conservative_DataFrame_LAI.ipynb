{
 "cells": [
  {
   "cell_type": "code",
   "execution_count": 63,
   "metadata": {},
   "outputs": [],
   "source": [
    "import pandas as pd\n",
    "import json\n",
    "import praw"
   ]
  },
  {
   "cell_type": "code",
   "execution_count": 64,
   "metadata": {},
   "outputs": [],
   "source": [
    "url = 'https://www.reddit.com/'\n",
    "with open(\"credentials.json\") as f:\n",
    "    params = json.load(f)"
   ]
  },
  {
   "cell_type": "code",
   "execution_count": 65,
   "metadata": {},
   "outputs": [],
   "source": [
    "reddit = praw.Reddit(client_id=params['client_id'], \n",
    "                     client_secret=params['api_key'],\n",
    "                     password=params['password'], \n",
    "                     user_agent='<name it something descriptive> accessAPI:v0.0.1 (by /u/<yourusername>)',\n",
    "                     username=params['username'])"
   ]
  },
  {
   "cell_type": "code",
   "execution_count": 88,
   "metadata": {},
   "outputs": [
    {
     "name": "stdout",
     "output_type": "stream",
     "text": [
      "[7367]\n"
     ]
    }
   ],
   "source": [
    "askaconservative = []\n",
    "subreddit = reddit.subreddit('askaconservative')\n",
    "askaconservative.append(subreddit.subscribers)\n",
    "print(askaconservative)"
   ]
  },
  {
   "cell_type": "code",
   "execution_count": 43,
   "metadata": {},
   "outputs": [
    {
     "name": "stdout",
     "output_type": "stream",
     "text": [
      "[232286]\n"
     ]
    }
   ],
   "source": [
    "conservative = []\n",
    "subreddit = reddit.subreddit('conservative')\n",
    "conservative.append(subreddit.subscribers)\n",
    "print(conservative)"
   ]
  },
  {
   "cell_type": "code",
   "execution_count": 44,
   "metadata": {},
   "outputs": [
    {
     "name": "stdout",
     "output_type": "stream",
     "text": [
      "[1042]\n"
     ]
    }
   ],
   "source": [
    "conservativelounge = []\n",
    "subreddit = reddit.subreddit('conservativelounge')\n",
    "conservativelounge.append(subreddit.subscribers)\n",
    "print(conservativelounge)"
   ]
  },
  {
   "cell_type": "code",
   "execution_count": 45,
   "metadata": {},
   "outputs": [
    {
     "name": "stdout",
     "output_type": "stream",
     "text": [
      "[15020]\n"
     ]
    }
   ],
   "source": [
    "conservatives = []\n",
    "subreddit = reddit.subreddit('conservatives')\n",
    "conservatives.append(subreddit.subscribers)\n",
    "print(conservatives)"
   ]
  },
  {
   "cell_type": "code",
   "execution_count": 46,
   "metadata": {},
   "outputs": [
    {
     "name": "stdout",
     "output_type": "stream",
     "text": [
      "[2]\n"
     ]
    }
   ],
   "source": [
    "conservatives_only = []\n",
    "subreddit = reddit.subreddit('conservatives_only')\n",
    "conservatives_only.append(subreddit.subscribers)\n",
    "print(conservatives_only)"
   ]
  },
  {
   "cell_type": "code",
   "execution_count": 47,
   "metadata": {},
   "outputs": [
    {
     "name": "stdout",
     "output_type": "stream",
     "text": [
      "[140757]\n"
     ]
    }
   ],
   "source": [
    "jordanpeterson = []\n",
    "subreddit = reddit.subreddit('jordanpeterson')\n",
    "jordanpeterson.append(subreddit.subscribers)\n",
    "print(jordanpeterson)"
   ]
  },
  {
   "cell_type": "code",
   "execution_count": 48,
   "metadata": {},
   "outputs": [
    {
     "name": "stdout",
     "output_type": "stream",
     "text": [
      "[13810]\n"
     ]
    }
   ],
   "source": [
    "louderwithcrowder = []\n",
    "subreddit = reddit.subreddit('louderwithcrowder')\n",
    "louderwithcrowder.append(subreddit.subscribers)\n",
    "print(louderwithcrowder)"
   ]
  },
  {
   "cell_type": "code",
   "execution_count": 49,
   "metadata": {},
   "outputs": [
    {
     "name": "stdout",
     "output_type": "stream",
     "text": [
      "[28102]\n"
     ]
    }
   ],
   "source": [
    "metacanada = []\n",
    "subreddit = reddit.subreddit('metacanada')\n",
    "metacanada.append(subreddit.subscribers)\n",
    "print(metacanada)"
   ]
  },
  {
   "cell_type": "code",
   "execution_count": 50,
   "metadata": {},
   "outputs": [
    {
     "name": "stdout",
     "output_type": "stream",
     "text": [
      "[21416]\n"
     ]
    }
   ],
   "source": [
    "newpatriotism = []\n",
    "subreddit = reddit.subreddit('newpatriotism')\n",
    "newpatriotism.append(subreddit.subscribers)\n",
    "print(newpatriotism)"
   ]
  },
  {
   "cell_type": "code",
   "execution_count": 33,
   "metadata": {},
   "outputs": [
    {
     "name": "stdout",
     "output_type": "stream",
     "text": [
      "[2521]\n"
     ]
    }
   ],
   "source": [
    "paleoconservative = []\n",
    "subreddit = reddit.subreddit('paleoconservative')\n",
    "paleoconservative.append(subreddit.subscribers)\n",
    "print(paleoconservative)"
   ]
  },
  {
   "cell_type": "code",
   "execution_count": 35,
   "metadata": {},
   "outputs": [
    {
     "name": "stdout",
     "output_type": "stream",
     "text": [
      "[86087]\n"
     ]
    }
   ],
   "source": [
    "Republican = []\n",
    "subreddit = reddit.subreddit('Republican')\n",
    "Republican.append(subreddit.subscribers)\n",
    "print(Republican)"
   ]
  },
  {
   "cell_type": "code",
   "execution_count": 34,
   "metadata": {},
   "outputs": [
    {
     "name": "stdout",
     "output_type": "stream",
     "text": [
      "[11154]\n"
     ]
    }
   ],
   "source": [
    "rightwinglgbt = []\n",
    "subreddit = reddit.subreddit('rightwinglgbt')\n",
    "rightwinglgbt.append(subreddit.subscribers)\n",
    "print(rightwinglgbt)"
   ]
  },
  {
   "cell_type": "code",
   "execution_count": 71,
   "metadata": {},
   "outputs": [
    {
     "name": "stdout",
     "output_type": "stream",
     "text": [
      "[5]\n"
     ]
    }
   ],
   "source": [
    "shitpoliticsays = []\n",
    "subreddit = reddit.subreddit('shitpoliticsays')\n",
    "shitpoliticsays.append(subreddit.subscribers)\n",
    "print(shitpoliticsays)"
   ]
  },
  {
   "cell_type": "code",
   "execution_count": 72,
   "metadata": {},
   "outputs": [
    {
     "name": "stdout",
     "output_type": "stream",
     "text": [
      "[30560]\n"
     ]
    }
   ],
   "source": [
    "thenewright = []\n",
    "subreddit = reddit.subreddit('thenewright')\n",
    "thenewright.append(subreddit.subscribers)\n",
    "print(thenewright)"
   ]
  },
  {
   "cell_type": "code",
   "execution_count": 73,
   "metadata": {},
   "outputs": [
    {
     "name": "stdout",
     "output_type": "stream",
     "text": [
      "[9271]\n"
     ]
    }
   ],
   "source": [
    "walkaway = []\n",
    "subreddit = reddit.subreddit('walkaway')\n",
    "walkaway.append(subreddit.subscribers)\n",
    "print(walkaway)"
   ]
  },
  {
   "cell_type": "code",
   "execution_count": 92,
   "metadata": {},
   "outputs": [
    {
     "data": {
      "text/html": [
       "<div>\n",
       "<style scoped>\n",
       "    .dataframe tbody tr th:only-of-type {\n",
       "        vertical-align: middle;\n",
       "    }\n",
       "\n",
       "    .dataframe tbody tr th {\n",
       "        vertical-align: top;\n",
       "    }\n",
       "\n",
       "    .dataframe thead th {\n",
       "        text-align: right;\n",
       "    }\n",
       "</style>\n",
       "<table border=\"1\" class=\"dataframe\">\n",
       "  <thead>\n",
       "    <tr style=\"text-align: right;\">\n",
       "      <th></th>\n",
       "      <th>Subreddit</th>\n",
       "      <th>Subscriber Count</th>\n",
       "    </tr>\n",
       "  </thead>\n",
       "  <tbody>\n",
       "    <tr>\n",
       "      <th>0</th>\n",
       "      <td>askaconservative</td>\n",
       "      <td>7367</td>\n",
       "    </tr>\n",
       "    <tr>\n",
       "      <th>1</th>\n",
       "      <td>conservative</td>\n",
       "      <td>232286</td>\n",
       "    </tr>\n",
       "    <tr>\n",
       "      <th>2</th>\n",
       "      <td>conservativelounge</td>\n",
       "      <td>1042</td>\n",
       "    </tr>\n",
       "    <tr>\n",
       "      <th>3</th>\n",
       "      <td>conservatives</td>\n",
       "      <td>15020</td>\n",
       "    </tr>\n",
       "    <tr>\n",
       "      <th>4</th>\n",
       "      <td>conservatives_only</td>\n",
       "      <td>2</td>\n",
       "    </tr>\n",
       "    <tr>\n",
       "      <th>5</th>\n",
       "      <td>jordanpeterson</td>\n",
       "      <td>140757</td>\n",
       "    </tr>\n",
       "    <tr>\n",
       "      <th>6</th>\n",
       "      <td>louderwithcrowder</td>\n",
       "      <td>13810</td>\n",
       "    </tr>\n",
       "    <tr>\n",
       "      <th>7</th>\n",
       "      <td>metacanada</td>\n",
       "      <td>28102</td>\n",
       "    </tr>\n",
       "    <tr>\n",
       "      <th>8</th>\n",
       "      <td>newpatriotism</td>\n",
       "      <td>21416</td>\n",
       "    </tr>\n",
       "    <tr>\n",
       "      <th>9</th>\n",
       "      <td>paleoconservative</td>\n",
       "      <td>2521</td>\n",
       "    </tr>\n",
       "    <tr>\n",
       "      <th>10</th>\n",
       "      <td>Republican</td>\n",
       "      <td>86087</td>\n",
       "    </tr>\n",
       "    <tr>\n",
       "      <th>11</th>\n",
       "      <td>rightwinglgbt</td>\n",
       "      <td>11154</td>\n",
       "    </tr>\n",
       "    <tr>\n",
       "      <th>12</th>\n",
       "      <td>shitpoliticsays</td>\n",
       "      <td>5</td>\n",
       "    </tr>\n",
       "    <tr>\n",
       "      <th>13</th>\n",
       "      <td>walkaway</td>\n",
       "      <td>9271</td>\n",
       "    </tr>\n",
       "    <tr>\n",
       "      <th>14</th>\n",
       "      <td>thenewright</td>\n",
       "      <td>30560</td>\n",
       "    </tr>\n",
       "  </tbody>\n",
       "</table>\n",
       "</div>"
      ],
      "text/plain": [
       "             Subreddit  Subscriber Count\n",
       "0     askaconservative              7367\n",
       "1         conservative            232286\n",
       "2   conservativelounge              1042\n",
       "3        conservatives             15020\n",
       "4   conservatives_only                 2\n",
       "5       jordanpeterson            140757\n",
       "6    louderwithcrowder             13810\n",
       "7           metacanada             28102\n",
       "8        newpatriotism             21416\n",
       "9    paleoconservative              2521\n",
       "10          Republican             86087\n",
       "11       rightwinglgbt             11154\n",
       "12     shitpoliticsays                 5\n",
       "13            walkaway              9271\n",
       "14         thenewright             30560"
      ]
     },
     "execution_count": 92,
     "metadata": {},
     "output_type": "execute_result"
    }
   ],
   "source": [
    "conservative_df = pd.DataFrame([('askaconservative', 7367),\n",
    "                                ('conservative', 232286),\n",
    "                                ('conservativelounge', 1042),\n",
    "                                ('conservatives', 15020),\n",
    "                                ('conservatives_only', 2),\n",
    "                                ('jordanpeterson', 140757),\n",
    "                                ('louderwithcrowder', 13810),\n",
    "                                ('metacanada', 28102),\n",
    "                                ('newpatriotism', 21416),\n",
    "                                ('paleoconservative', 2521),\n",
    "                                ('Republican', 86087),\n",
    "                                ('rightwinglgbt', 11154),\n",
    "                                ('shitpoliticsays', 5),\n",
    "                                ('walkaway', 9271),\n",
    "                                ('thenewright', 30560)],\n",
    "                               columns=('Subreddit','Subscriber Count'))\n",
    "conservative_df\n",
    "                                "
   ]
  },
  {
   "cell_type": "code",
   "execution_count": 93,
   "metadata": {},
   "outputs": [
    {
     "data": {
      "text/html": [
       "<div>\n",
       "<style scoped>\n",
       "    .dataframe tbody tr th:only-of-type {\n",
       "        vertical-align: middle;\n",
       "    }\n",
       "\n",
       "    .dataframe tbody tr th {\n",
       "        vertical-align: top;\n",
       "    }\n",
       "\n",
       "    .dataframe thead th {\n",
       "        text-align: right;\n",
       "    }\n",
       "</style>\n",
       "<table border=\"1\" class=\"dataframe\">\n",
       "  <thead>\n",
       "    <tr style=\"text-align: right;\">\n",
       "      <th></th>\n",
       "      <th>Subreddit</th>\n",
       "      <th>Subscriber Count</th>\n",
       "    </tr>\n",
       "  </thead>\n",
       "  <tbody>\n",
       "    <tr>\n",
       "      <th>4</th>\n",
       "      <td>conservatives_only</td>\n",
       "      <td>2</td>\n",
       "    </tr>\n",
       "    <tr>\n",
       "      <th>12</th>\n",
       "      <td>shitpoliticsays</td>\n",
       "      <td>5</td>\n",
       "    </tr>\n",
       "    <tr>\n",
       "      <th>2</th>\n",
       "      <td>conservativelounge</td>\n",
       "      <td>1042</td>\n",
       "    </tr>\n",
       "    <tr>\n",
       "      <th>9</th>\n",
       "      <td>paleoconservative</td>\n",
       "      <td>2521</td>\n",
       "    </tr>\n",
       "    <tr>\n",
       "      <th>0</th>\n",
       "      <td>askaconservative</td>\n",
       "      <td>7367</td>\n",
       "    </tr>\n",
       "    <tr>\n",
       "      <th>13</th>\n",
       "      <td>walkaway</td>\n",
       "      <td>9271</td>\n",
       "    </tr>\n",
       "    <tr>\n",
       "      <th>11</th>\n",
       "      <td>rightwinglgbt</td>\n",
       "      <td>11154</td>\n",
       "    </tr>\n",
       "    <tr>\n",
       "      <th>6</th>\n",
       "      <td>louderwithcrowder</td>\n",
       "      <td>13810</td>\n",
       "    </tr>\n",
       "    <tr>\n",
       "      <th>3</th>\n",
       "      <td>conservatives</td>\n",
       "      <td>15020</td>\n",
       "    </tr>\n",
       "    <tr>\n",
       "      <th>8</th>\n",
       "      <td>newpatriotism</td>\n",
       "      <td>21416</td>\n",
       "    </tr>\n",
       "    <tr>\n",
       "      <th>7</th>\n",
       "      <td>metacanada</td>\n",
       "      <td>28102</td>\n",
       "    </tr>\n",
       "    <tr>\n",
       "      <th>14</th>\n",
       "      <td>thenewright</td>\n",
       "      <td>30560</td>\n",
       "    </tr>\n",
       "    <tr>\n",
       "      <th>10</th>\n",
       "      <td>Republican</td>\n",
       "      <td>86087</td>\n",
       "    </tr>\n",
       "    <tr>\n",
       "      <th>5</th>\n",
       "      <td>jordanpeterson</td>\n",
       "      <td>140757</td>\n",
       "    </tr>\n",
       "    <tr>\n",
       "      <th>1</th>\n",
       "      <td>conservative</td>\n",
       "      <td>232286</td>\n",
       "    </tr>\n",
       "  </tbody>\n",
       "</table>\n",
       "</div>"
      ],
      "text/plain": [
       "             Subreddit  Subscriber Count\n",
       "4   conservatives_only                 2\n",
       "12     shitpoliticsays                 5\n",
       "2   conservativelounge              1042\n",
       "9    paleoconservative              2521\n",
       "0     askaconservative              7367\n",
       "13            walkaway              9271\n",
       "11       rightwinglgbt             11154\n",
       "6    louderwithcrowder             13810\n",
       "3        conservatives             15020\n",
       "8        newpatriotism             21416\n",
       "7           metacanada             28102\n",
       "14         thenewright             30560\n",
       "10          Republican             86087\n",
       "5       jordanpeterson            140757\n",
       "1         conservative            232286"
      ]
     },
     "execution_count": 93,
     "metadata": {},
     "output_type": "execute_result"
    }
   ],
   "source": [
    "conservative_df.sort_values(by=\"Subscriber Count\", ascending=True)"
   ]
  },
  {
   "cell_type": "code",
   "execution_count": 94,
   "metadata": {},
   "outputs": [
    {
     "data": {
      "text/plain": [
       "599400"
      ]
     },
     "execution_count": 94,
     "metadata": {},
     "output_type": "execute_result"
    }
   ],
   "source": [
    "total = conservative_df['Subscriber Count'].sum()\n",
    "total"
   ]
  },
  {
   "cell_type": "code",
   "execution_count": null,
   "metadata": {},
   "outputs": [],
   "source": []
  }
 ],
 "metadata": {
  "kernelspec": {
   "display_name": "Python [conda env:PythonData]",
   "language": "python",
   "name": "conda-env-PythonData-py"
  },
  "language_info": {
   "codemirror_mode": {
    "name": "ipython",
    "version": 3
   },
   "file_extension": ".py",
   "mimetype": "text/x-python",
   "name": "python",
   "nbconvert_exporter": "python",
   "pygments_lexer": "ipython3",
   "version": "3.6.8"
  }
 },
 "nbformat": 4,
 "nbformat_minor": 2
}
