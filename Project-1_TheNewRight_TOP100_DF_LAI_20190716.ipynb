{
 "cells": [
  {
   "cell_type": "code",
   "execution_count": 1,
   "metadata": {},
   "outputs": [],
   "source": [
    "import json\n",
    "import praw\n",
    "import requests\n",
    "import pandas as pd\n",
    "from pprint import pprint\n",
    "import numpy as np\n",
    "import datetime\n",
    "import matplotlib.pyplot as plt "
   ]
  },
  {
   "cell_type": "code",
   "execution_count": 2,
   "metadata": {},
   "outputs": [],
   "source": [
    "url = \"https://www.reddit.com/\"\n",
    "with open(\"credentials.json\") as f:\n",
    "    params = json.load(f)"
   ]
  },
  {
   "cell_type": "code",
   "execution_count": 3,
   "metadata": {},
   "outputs": [],
   "source": [
    "reddit = praw.Reddit(client_id=params['client_id'], \n",
    "                     client_secret=params['api_key'],\n",
    "                     password=params['password'], \n",
    "                     user_agent='<name it something descriptive> accessAPI:v0.0.1 (by /u/<yourusername>)',\n",
    "                     username=params['username'])"
   ]
  },
  {
   "cell_type": "code",
   "execution_count": 4,
   "metadata": {},
   "outputs": [],
   "source": [
    "thenewright = reddit.subreddit(\"thenewright\")"
   ]
  },
  {
   "cell_type": "code",
   "execution_count": 7,
   "metadata": {},
   "outputs": [],
   "source": [
    "thenewright_dict = {\"Author\": [],\n",
    "                     \"Score\": [],\n",
    "                     \"Upvote Ratio\": [],\n",
    "                     \"Comments\": [],\n",
    "                     \"Date\": []\n",
    "                     }\n",
    "\n",
    "def get_date(submission):\n",
    "    time = submission.created\n",
    "    return datetime.datetime.fromtimestamp(time)\n",
    "\n",
    "for submission in thenewright.top(\"year\", limit = 100):\n",
    "    thenewright_dict[\"Author\"].append(submission.author)\n",
    "    thenewright_dict[\"Score\"].append(submission.score)\n",
    "    thenewright_dict[\"Upvote Ratio\"].append(submission.upvote_ratio)\n",
    "    thenewright_dict[\"Comments\"].append(submission.num_comments)\n",
    "    thenewright_dict[\"Date\"].append(get_date(submission))"
   ]
  },
  {
   "cell_type": "code",
   "execution_count": 8,
   "metadata": {},
   "outputs": [
    {
     "data": {
      "text/html": [
       "<div>\n",
       "<style scoped>\n",
       "    .dataframe tbody tr th:only-of-type {\n",
       "        vertical-align: middle;\n",
       "    }\n",
       "\n",
       "    .dataframe tbody tr th {\n",
       "        vertical-align: top;\n",
       "    }\n",
       "\n",
       "    .dataframe thead th {\n",
       "        text-align: right;\n",
       "    }\n",
       "</style>\n",
       "<table border=\"1\" class=\"dataframe\">\n",
       "  <thead>\n",
       "    <tr style=\"text-align: right;\">\n",
       "      <th></th>\n",
       "      <th>Author</th>\n",
       "      <th>Score</th>\n",
       "      <th>Upvote Ratio</th>\n",
       "      <th>Comments</th>\n",
       "      <th>Date</th>\n",
       "    </tr>\n",
       "  </thead>\n",
       "  <tbody>\n",
       "    <tr>\n",
       "      <th>0</th>\n",
       "      <td>SuperCharged2000</td>\n",
       "      <td>880</td>\n",
       "      <td>0.93</td>\n",
       "      <td>48</td>\n",
       "      <td>2018-11-05 04:21:30</td>\n",
       "    </tr>\n",
       "    <tr>\n",
       "      <th>1</th>\n",
       "      <td>Aldebaran333</td>\n",
       "      <td>824</td>\n",
       "      <td>0.87</td>\n",
       "      <td>72</td>\n",
       "      <td>2018-11-08 15:55:25</td>\n",
       "    </tr>\n",
       "    <tr>\n",
       "      <th>2</th>\n",
       "      <td>UsualHat</td>\n",
       "      <td>808</td>\n",
       "      <td>0.86</td>\n",
       "      <td>141</td>\n",
       "      <td>2019-07-08 13:34:10</td>\n",
       "    </tr>\n",
       "    <tr>\n",
       "      <th>3</th>\n",
       "      <td>UsualHat</td>\n",
       "      <td>800</td>\n",
       "      <td>0.90</td>\n",
       "      <td>24</td>\n",
       "      <td>2019-07-05 13:29:11</td>\n",
       "    </tr>\n",
       "    <tr>\n",
       "      <th>4</th>\n",
       "      <td>RubyDoobie1</td>\n",
       "      <td>791</td>\n",
       "      <td>0.92</td>\n",
       "      <td>60</td>\n",
       "      <td>2018-10-29 08:24:01</td>\n",
       "    </tr>\n",
       "  </tbody>\n",
       "</table>\n",
       "</div>"
      ],
      "text/plain": [
       "             Author  Score  Upvote Ratio  Comments                Date\n",
       "0  SuperCharged2000    880          0.93        48 2018-11-05 04:21:30\n",
       "1      Aldebaran333    824          0.87        72 2018-11-08 15:55:25\n",
       "2          UsualHat    808          0.86       141 2019-07-08 13:34:10\n",
       "3          UsualHat    800          0.90        24 2019-07-05 13:29:11\n",
       "4       RubyDoobie1    791          0.92        60 2018-10-29 08:24:01"
      ]
     },
     "execution_count": 8,
     "metadata": {},
     "output_type": "execute_result"
    }
   ],
   "source": [
    "thenewright_df = pd.DataFrame(thenewright_dict)\n",
    "thenewright_df.head(5)"
   ]
  },
  {
   "cell_type": "code",
   "execution_count": null,
   "metadata": {},
   "outputs": [],
   "source": []
  }
 ],
 "metadata": {
  "kernelspec": {
   "display_name": "Python [conda env:PythonData]",
   "language": "python",
   "name": "conda-env-PythonData-py"
  },
  "language_info": {
   "codemirror_mode": {
    "name": "ipython",
    "version": 3
   },
   "file_extension": ".py",
   "mimetype": "text/x-python",
   "name": "python",
   "nbconvert_exporter": "python",
   "pygments_lexer": "ipython3",
   "version": "3.6.8"
  }
 },
 "nbformat": 4,
 "nbformat_minor": 2
}
