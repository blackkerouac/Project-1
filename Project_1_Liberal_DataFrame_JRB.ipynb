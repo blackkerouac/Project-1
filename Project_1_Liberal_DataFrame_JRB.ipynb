{
 "cells": [
  {
   "cell_type": "code",
   "execution_count": 20,
   "metadata": {},
   "outputs": [],
   "source": [
    "import json\n",
    "import praw\n",
    "import pandas as pd\n",
    "\n",
    "url = 'https://www.reddit.com/'\n",
    "\n",
    "with open('config.json') as f:\n",
    "    params = json.load(f)"
   ]
  },
  {
   "cell_type": "code",
   "execution_count": 21,
   "metadata": {},
   "outputs": [],
   "source": [
    "reddit = praw.Reddit(client_id=params['client_id'], \n",
    "                     client_secret=params['api_key'],\n",
    "                     password=params['password'], \n",
    "                     user_agent='<name it something descriptive> accessAPI:v0.0.1 (by /u/<yourusername>)',\n",
    "                     username=params['username'])"
   ]
  },
  {
   "cell_type": "code",
   "execution_count": null,
   "metadata": {},
   "outputs": [],
   "source": [
    "#subreddit = reddit.subreddit('againsthatesubreddits', 'anarchism')\n",
    "\n",
    "#test = {'sub': [subreddit], 'subscriber': [subreddit.subscribers]}\n",
    "\n",
    "#df = pd.DataFrame(test, columns = ['sub', 'subscriber'])\n",
    "#df.head()"
   ]
  },
  {
   "cell_type": "code",
   "execution_count": 9,
   "metadata": {},
   "outputs": [
    {
     "name": "stdout",
     "output_type": "stream",
     "text": [
      "73238\n"
     ]
    }
   ],
   "source": [
    "subreddit = reddit.subreddit('againsthatesubreddits')\n",
    "print(subreddit.subscribers)"
   ]
  },
  {
   "cell_type": "code",
   "execution_count": 10,
   "metadata": {},
   "outputs": [
    {
     "name": "stdout",
     "output_type": "stream",
     "text": [
      "135122\n"
     ]
    }
   ],
   "source": [
    "subreddit = reddit.subreddit('anarchism')\n",
    "print(subreddit.subscribers)"
   ]
  },
  {
   "cell_type": "code",
   "execution_count": 11,
   "metadata": {},
   "outputs": [
    {
     "name": "stdout",
     "output_type": "stream",
     "text": [
      "6860\n"
     ]
    }
   ],
   "source": [
    "subreddit = reddit.subreddit('anarchocommunism')\n",
    "print(subreddit.subscribers)"
   ]
  },
  {
   "cell_type": "code",
   "execution_count": 12,
   "metadata": {},
   "outputs": [
    {
     "name": "stdout",
     "output_type": "stream",
     "text": [
      "29047\n"
     ]
    }
   ],
   "source": [
    "subreddit = reddit.subreddit('anarchy101')\n",
    "print(subreddit.subscribers)"
   ]
  },
  {
   "cell_type": "code",
   "execution_count": 13,
   "metadata": {},
   "outputs": [
    {
     "name": "stdout",
     "output_type": "stream",
     "text": [
      "33697\n"
     ]
    }
   ],
   "source": [
    "subreddit = reddit.subreddit('antiwork')\n",
    "print(subreddit.subscribers)"
   ]
  },
  {
   "cell_type": "code",
   "execution_count": 14,
   "metadata": {},
   "outputs": [
    {
     "name": "stdout",
     "output_type": "stream",
     "text": [
      "18145\n"
     ]
    }
   ],
   "source": [
    "subreddit = reddit.subreddit('antifascistsofreddit')\n",
    "print(subreddit.subscribers)"
   ]
  },
  {
   "cell_type": "code",
   "execution_count": 15,
   "metadata": {},
   "outputs": [
    {
     "name": "stdout",
     "output_type": "stream",
     "text": [
      "5447\n"
     ]
    }
   ],
   "source": [
    "subreddit = reddit.subreddit('askaliberal')\n",
    "print(subreddit.subscribers)"
   ]
  },
  {
   "cell_type": "code",
   "execution_count": 16,
   "metadata": {},
   "outputs": [
    {
     "name": "stdout",
     "output_type": "stream",
     "text": [
      "31600\n"
     ]
    }
   ],
   "source": [
    "subreddit = reddit.subreddit('bannedfromthe_donald')\n",
    "print(subreddit.subscribers)"
   ]
  },
  {
   "cell_type": "code",
   "execution_count": 30,
   "metadata": {},
   "outputs": [
    {
     "name": "stdout",
     "output_type": "stream",
     "text": [
      "9797\n"
     ]
    }
   ],
   "source": [
    "subreddit = reddit.subreddit('beto2020')\n",
    "print(subreddit.subscribers)"
   ]
  },
  {
   "cell_type": "code",
   "execution_count": 31,
   "metadata": {},
   "outputs": [
    {
     "name": "stdout",
     "output_type": "stream",
     "text": [
      "75511\n"
     ]
    }
   ],
   "source": [
    "subreddit = reddit.subreddit('bluemidterm2018')\n",
    "print(subreddit.subscribers)"
   ]
  },
  {
   "cell_type": "code",
   "execution_count": 32,
   "metadata": {},
   "outputs": [
    {
     "name": "stdout",
     "output_type": "stream",
     "text": [
      "65675\n"
     ]
    }
   ],
   "source": [
    "subreddit = reddit.subreddit('breadtube')\n",
    "print(subreddit.subscribers)"
   ]
  },
  {
   "cell_type": "code",
   "execution_count": 34,
   "metadata": {},
   "outputs": [
    {
     "name": "stdout",
     "output_type": "stream",
     "text": [
      "7008\n"
     ]
    }
   ],
   "source": [
    "subreddit = reddit.subreddit('centerleftpolitics')\n",
    "print(subreddit.subscribers)"
   ]
  },
  {
   "cell_type": "code",
   "execution_count": 35,
   "metadata": {},
   "outputs": [
    {
     "name": "stdout",
     "output_type": "stream",
     "text": [
      "25180\n"
     ]
    }
   ],
   "source": [
    "subreddit = reddit.subreddit('chapotraphouse2')\n",
    "print(subreddit.subscribers)"
   ]
  },
  {
   "cell_type": "code",
   "execution_count": 36,
   "metadata": {},
   "outputs": [
    {
     "name": "stdout",
     "output_type": "stream",
     "text": [
      "128663\n"
     ]
    }
   ],
   "source": [
    "subreddit = reddit.subreddit('chapotraphouse')\n",
    "print(subreddit.subscribers)"
   ]
  },
  {
   "cell_type": "code",
   "execution_count": 37,
   "metadata": {},
   "outputs": [
    {
     "name": "stdout",
     "output_type": "stream",
     "text": [
      "29904\n"
     ]
    }
   ],
   "source": [
    "subreddit = reddit.subreddit('chomsky')\n",
    "print(subreddit.subscribers)"
   ]
  },
  {
   "cell_type": "code",
   "execution_count": 38,
   "metadata": {},
   "outputs": [
    {
     "name": "stdout",
     "output_type": "stream",
     "text": [
      "37348\n"
     ]
    }
   ],
   "source": [
    "subreddit = reddit.subreddit('circlebroke')\n",
    "print(subreddit.subscribers)"
   ]
  },
  {
   "cell_type": "code",
   "execution_count": 39,
   "metadata": {},
   "outputs": [
    {
     "name": "stdout",
     "output_type": "stream",
     "text": [
      "21625\n"
     ]
    }
   ],
   "source": [
    "subreddit = reddit.subreddit('circlebroke2')\n",
    "print(subreddit.subscribers)"
   ]
  },
  {
   "cell_type": "code",
   "execution_count": 40,
   "metadata": {},
   "outputs": [
    {
     "name": "stdout",
     "output_type": "stream",
     "text": [
      "68703\n"
     ]
    }
   ],
   "source": [
    "subreddit = reddit.subreddit('communism101')\n",
    "print(subreddit.subscribers)"
   ]
  },
  {
   "cell_type": "code",
   "execution_count": 41,
   "metadata": {},
   "outputs": [
    {
     "name": "stdout",
     "output_type": "stream",
     "text": [
      "98701\n"
     ]
    }
   ],
   "source": [
    "subreddit = reddit.subreddit('communism')\n",
    "print(subreddit.subscribers)"
   ]
  },
  {
   "cell_type": "code",
   "execution_count": 42,
   "metadata": {},
   "outputs": [
    {
     "name": "stdout",
     "output_type": "stream",
     "text": [
      "93201\n"
     ]
    }
   ],
   "source": [
    "subreddit = reddit.subreddit('completeanarchy')\n",
    "print(subreddit.subscribers)"
   ]
  },
  {
   "cell_type": "code",
   "execution_count": 43,
   "metadata": {},
   "outputs": [
    {
     "name": "stdout",
     "output_type": "stream",
     "text": [
      "12723\n"
     ]
    }
   ],
   "source": [
    "subreddit = reddit.subreddit('debateanarchism')\n",
    "print(subreddit.subscribers)"
   ]
  },
  {
   "cell_type": "code",
   "execution_count": 44,
   "metadata": {},
   "outputs": [
    {
     "name": "stdout",
     "output_type": "stream",
     "text": [
      "23875\n"
     ]
    }
   ],
   "source": [
    "subreddit = reddit.subreddit('debatecommunism')\n",
    "print(subreddit.subscribers)"
   ]
  },
  {
   "cell_type": "code",
   "execution_count": 45,
   "metadata": {},
   "outputs": [
    {
     "name": "stdout",
     "output_type": "stream",
     "text": [
      "9907\n"
     ]
    }
   ],
   "source": [
    "subreddit = reddit.subreddit('demsocialists')\n",
    "print(subreddit.subscribers)"
   ]
  },
  {
   "cell_type": "code",
   "execution_count": 46,
   "metadata": {},
   "outputs": [
    {
     "name": "stdout",
     "output_type": "stream",
     "text": [
      "93243\n"
     ]
    }
   ],
   "source": [
    "subreddit = reddit.subreddit('enlightenedcentrism')\n",
    "print(subreddit.subscribers)"
   ]
  },
  {
   "cell_type": "code",
   "execution_count": 47,
   "metadata": {},
   "outputs": [
    {
     "name": "stdout",
     "output_type": "stream",
     "text": [
      "25485\n"
     ]
    }
   ],
   "source": [
    "subreddit = reddit.subreddit('enoughlibertarianspam')\n",
    "print(subreddit.subscribers)"
   ]
  },
  {
   "cell_type": "code",
   "execution_count": 48,
   "metadata": {},
   "outputs": [
    {
     "name": "stdout",
     "output_type": "stream",
     "text": [
      "92591\n"
     ]
    }
   ],
   "source": [
    "subreddit = reddit.subreddit('enoughtrumpspam')\n",
    "print(subreddit.subscribers)"
   ]
  },
  {
   "cell_type": "code",
   "execution_count": 49,
   "metadata": {},
   "outputs": [
    {
     "name": "stdout",
     "output_type": "stream",
     "text": [
      "125633\n"
     ]
    }
   ],
   "source": [
    "subreddit = reddit.subreddit('esist')\n",
    "print(subreddit.subscribers)"
   ]
  },
  {
   "cell_type": "code",
   "execution_count": 50,
   "metadata": {},
   "outputs": [
    {
     "name": "stdout",
     "output_type": "stream",
     "text": [
      "121314\n"
     ]
    }
   ],
   "source": [
    "subreddit = reddit.subreddit('fuckthealtright')\n",
    "print(subreddit.subscribers)"
   ]
  },
  {
   "cell_type": "code",
   "execution_count": 53,
   "metadata": {},
   "outputs": [
    {
     "name": "stdout",
     "output_type": "stream",
     "text": [
      "9617\n"
     ]
    }
   ],
   "source": [
    "subreddit = reddit.subreddit('greenparty')\n",
    "print(subreddit.subscribers)"
   ]
  },
  {
   "cell_type": "code",
   "execution_count": 55,
   "metadata": {},
   "outputs": [
    {
     "name": "stdout",
     "output_type": "stream",
     "text": [
      "65084\n"
     ]
    }
   ],
   "source": [
    "subreddit = reddit.subreddit('impeach_trump')\n",
    "print(subreddit.subscribers)"
   ]
  },
  {
   "cell_type": "code",
   "execution_count": 56,
   "metadata": {},
   "outputs": [
    {
     "name": "stdout",
     "output_type": "stream",
     "text": [
      "87981\n"
     ]
    }
   ],
   "source": [
    "subreddit = reddit.subreddit('keep_track')\n",
    "print(subreddit.subscribers)"
   ]
  },
  {
   "cell_type": "code",
   "execution_count": 57,
   "metadata": {},
   "outputs": [
    {
     "name": "stdout",
     "output_type": "stream",
     "text": [
      "434720\n"
     ]
    }
   ],
   "source": [
    "subreddit = reddit.subreddit('latestagecapitalism')\n",
    "print(subreddit.subscribers)"
   ]
  },
  {
   "cell_type": "code",
   "execution_count": 58,
   "metadata": {},
   "outputs": [
    {
     "name": "stdout",
     "output_type": "stream",
     "text": [
      "19265\n"
     ]
    }
   ],
   "source": [
    "subreddit = reddit.subreddit('leftwithoutedge')\n",
    "print(subreddit.subscribers)"
   ]
  },
  {
   "cell_type": "code",
   "execution_count": 59,
   "metadata": {},
   "outputs": [
    {
     "name": "stdout",
     "output_type": "stream",
     "text": [
      "70133\n"
     ]
    }
   ],
   "source": [
    "subreddit = reddit.subreddit('liberal')\n",
    "print(subreddit.subscribers)"
   ]
  },
  {
   "cell_type": "code",
   "execution_count": 60,
   "metadata": {},
   "outputs": [
    {
     "name": "stdout",
     "output_type": "stream",
     "text": [
      "83088\n"
     ]
    }
   ],
   "source": [
    "subreddit = reddit.subreddit('marchagainsttrump')\n",
    "print(subreddit.subscribers)"
   ]
  },
  {
   "cell_type": "code",
   "execution_count": 61,
   "metadata": {},
   "outputs": [
    {
     "name": "stdout",
     "output_type": "stream",
     "text": [
      "2383\n"
     ]
    }
   ],
   "source": [
    "subreddit = reddit.subreddit('moretankiechapo')\n",
    "print(subreddit.subscribers)"
   ]
  },
  {
   "cell_type": "code",
   "execution_count": 62,
   "metadata": {},
   "outputs": [
    {
     "name": "stdout",
     "output_type": "stream",
     "text": [
      "41584\n"
     ]
    }
   ],
   "source": [
    "subreddit = reddit.subreddit('neoliberal')\n",
    "print(subreddit.subscribers)"
   ]
  },
  {
   "cell_type": "code",
   "execution_count": 63,
   "metadata": {},
   "outputs": [
    {
     "name": "stdout",
     "output_type": "stream",
     "text": [
      "57386\n"
     ]
    }
   ],
   "source": [
    "subreddit = reddit.subreddit('onguardforthee')\n",
    "print(subreddit.subscribers)"
   ]
  },
  {
   "cell_type": "code",
   "execution_count": 65,
   "metadata": {},
   "outputs": [
    {
     "name": "stdout",
     "output_type": "stream",
     "text": [
      "43560\n"
     ]
    }
   ],
   "source": [
    "subreddit = reddit.subreddit('ourpresident')\n",
    "print(subreddit.subscribers)"
   ]
  },
  {
   "cell_type": "code",
   "execution_count": 66,
   "metadata": {},
   "outputs": [
    {
     "name": "stdout",
     "output_type": "stream",
     "text": [
      "81996\n"
     ]
    }
   ],
   "source": [
    "subreddit = reddit.subreddit('political_revolution')\n",
    "print(subreddit.subscribers)"
   ]
  },
  {
   "cell_type": "code",
   "execution_count": 67,
   "metadata": {},
   "outputs": [
    {
     "name": "stdout",
     "output_type": "stream",
     "text": [
      "728425\n"
     ]
    }
   ],
   "source": [
    "subreddit = reddit.subreddit('politicalhumor')\n",
    "print(subreddit.subscribers)"
   ]
  },
  {
   "cell_type": "code",
   "execution_count": 89,
   "metadata": {},
   "outputs": [
    {
     "name": "stdout",
     "output_type": "stream",
     "text": [
      "5264280\n"
     ]
    }
   ],
   "source": [
    "subreddit = reddit.subreddit('politics')\n",
    "print(subreddit.subscribers)"
   ]
  },
  {
   "cell_type": "code",
   "execution_count": 69,
   "metadata": {},
   "outputs": [
    {
     "name": "stdout",
     "output_type": "stream",
     "text": [
      "14142\n"
     ]
    }
   ],
   "source": [
    "subreddit = reddit.subreddit('pragerurine')\n",
    "print(subreddit.subscribers)"
   ]
  },
  {
   "cell_type": "code",
   "execution_count": 70,
   "metadata": {},
   "outputs": [
    {
     "name": "stdout",
     "output_type": "stream",
     "text": [
      "60195\n"
     ]
    }
   ],
   "source": [
    "subreddit = reddit.subreddit('progressive')\n",
    "print(subreddit.subscribers)"
   ]
  },
  {
   "cell_type": "code",
   "execution_count": 71,
   "metadata": {},
   "outputs": [
    {
     "name": "stdout",
     "output_type": "stream",
     "text": [
      "50792\n"
     ]
    }
   ],
   "source": [
    "subreddit = reddit.subreddit('russialago')\n",
    "print(subreddit.subscribers)"
   ]
  },
  {
   "cell_type": "code",
   "execution_count": 72,
   "metadata": {},
   "outputs": [
    {
     "name": "stdout",
     "output_type": "stream",
     "text": [
      "267497\n"
     ]
    }
   ],
   "source": [
    "subreddit = reddit.subreddit('sandersforpresident')\n",
    "print(subreddit.subscribers)"
   ]
  },
  {
   "cell_type": "code",
   "execution_count": 73,
   "metadata": {},
   "outputs": [
    {
     "name": "stdout",
     "output_type": "stream",
     "text": [
      "100306\n"
     ]
    }
   ],
   "source": [
    "subreddit = reddit.subreddit('selfawarewolves')\n",
    "print(subreddit.subscribers)"
   ]
  },
  {
   "cell_type": "code",
   "execution_count": 74,
   "metadata": {},
   "outputs": [
    {
     "name": "stdout",
     "output_type": "stream",
     "text": [
      "40252\n"
     ]
    }
   ],
   "source": [
    "subreddit = reddit.subreddit('shitliberalssay')\n",
    "print(subreddit.subscribers)"
   ]
  },
  {
   "cell_type": "code",
   "execution_count": 75,
   "metadata": {},
   "outputs": [
    {
     "name": "stdout",
     "output_type": "stream",
     "text": [
      "8831\n"
     ]
    }
   ],
   "source": [
    "subreddit = reddit.subreddit('shitthe_donaldSays')\n",
    "print(subreddit.subscribers)"
   ]
  },
  {
   "cell_type": "code",
   "execution_count": 76,
   "metadata": {},
   "outputs": [
    {
     "name": "stdout",
     "output_type": "stream",
     "text": [
      "201859\n"
     ]
    }
   ],
   "source": [
    "subreddit = reddit.subreddit('socialism')\n",
    "print(subreddit.subscribers)"
   ]
  },
  {
   "cell_type": "code",
   "execution_count": 77,
   "metadata": {},
   "outputs": [
    {
     "name": "stdout",
     "output_type": "stream",
     "text": [
      "23636\n"
     ]
    }
   ],
   "source": [
    "subreddit = reddit.subreddit('socialism_101')\n",
    "print(subreddit.subscribers)"
   ]
  },
  {
   "cell_type": "code",
   "execution_count": 78,
   "metadata": {},
   "outputs": [
    {
     "name": "stdout",
     "output_type": "stream",
     "text": [
      "177540\n"
     ]
    }
   ],
   "source": [
    "subreddit = reddit.subreddit('the_mueller')\n",
    "print(subreddit.subscribers)"
   ]
  },
  {
   "cell_type": "code",
   "execution_count": 79,
   "metadata": {},
   "outputs": [
    {
     "name": "stdout",
     "output_type": "stream",
     "text": [
      "1660\n"
     ]
    }
   ],
   "source": [
    "subreddit = reddit.subreddit('threearrows')\n",
    "print(subreddit.subscribers)"
   ]
  },
  {
   "cell_type": "code",
   "execution_count": 82,
   "metadata": {},
   "outputs": [
    {
     "name": "stdout",
     "output_type": "stream",
     "text": [
      "65249\n"
     ]
    }
   ],
   "source": [
    "subreddit = reddit.subreddit('toiletpaperusa')\n",
    "print(subreddit.subscribers)"
   ]
  },
  {
   "cell_type": "code",
   "execution_count": 83,
   "metadata": {},
   "outputs": [
    {
     "name": "stdout",
     "output_type": "stream",
     "text": [
      "205889\n"
     ]
    }
   ],
   "source": [
    "subreddit = reddit.subreddit('topmindsofreddit')\n",
    "print(subreddit.subscribers)"
   ]
  },
  {
   "cell_type": "code",
   "execution_count": 84,
   "metadata": {},
   "outputs": [
    {
     "name": "stdout",
     "output_type": "stream",
     "text": [
      "45717\n"
     ]
    }
   ],
   "source": [
    "subreddit = reddit.subreddit('voteblue')\n",
    "print(subreddit.subscribers)"
   ]
  },
  {
   "cell_type": "code",
   "execution_count": 85,
   "metadata": {},
   "outputs": [
    {
     "name": "stdout",
     "output_type": "stream",
     "text": [
      "32536\n"
     ]
    }
   ],
   "source": [
    "subreddit = reddit.subreddit('wayofthebern')\n",
    "print(subreddit.subscribers)"
   ]
  },
  {
   "cell_type": "code",
   "execution_count": 86,
   "metadata": {},
   "outputs": [
    {
     "name": "stdout",
     "output_type": "stream",
     "text": [
      "28081\n"
     ]
    }
   ],
   "source": [
    "subreddit = reddit.subreddit('yangforpresidenthq')\n",
    "print(subreddit.subscribers)"
   ]
  },
  {
   "cell_type": "code",
   "execution_count": 95,
   "metadata": {},
   "outputs": [
    {
     "data": {
      "text/html": [
       "<div>\n",
       "<style scoped>\n",
       "    .dataframe tbody tr th:only-of-type {\n",
       "        vertical-align: middle;\n",
       "    }\n",
       "\n",
       "    .dataframe tbody tr th {\n",
       "        vertical-align: top;\n",
       "    }\n",
       "\n",
       "    .dataframe thead th {\n",
       "        text-align: right;\n",
       "    }\n",
       "</style>\n",
       "<table border=\"1\" class=\"dataframe\">\n",
       "  <thead>\n",
       "    <tr style=\"text-align: right;\">\n",
       "      <th></th>\n",
       "      <th>subreddit</th>\n",
       "      <th>subscriber count</th>\n",
       "    </tr>\n",
       "  </thead>\n",
       "  <tbody>\n",
       "    <tr>\n",
       "      <th>31</th>\n",
       "      <td>politics</td>\n",
       "      <td>5264280</td>\n",
       "    </tr>\n",
       "    <tr>\n",
       "      <th>30</th>\n",
       "      <td>politicalhumor</td>\n",
       "      <td>728425</td>\n",
       "    </tr>\n",
       "    <tr>\n",
       "      <th>22</th>\n",
       "      <td>latestagecapitalism</td>\n",
       "      <td>434720</td>\n",
       "    </tr>\n",
       "    <tr>\n",
       "      <th>34</th>\n",
       "      <td>sandersforpresident</td>\n",
       "      <td>267497</td>\n",
       "    </tr>\n",
       "    <tr>\n",
       "      <th>39</th>\n",
       "      <td>topmindsofreddit</td>\n",
       "      <td>205889</td>\n",
       "    </tr>\n",
       "    <tr>\n",
       "      <th>37</th>\n",
       "      <td>socialism</td>\n",
       "      <td>201859</td>\n",
       "    </tr>\n",
       "    <tr>\n",
       "      <th>1</th>\n",
       "      <td>anarchism</td>\n",
       "      <td>135122</td>\n",
       "    </tr>\n",
       "    <tr>\n",
       "      <th>8</th>\n",
       "      <td>chapotraphouse</td>\n",
       "      <td>128663</td>\n",
       "    </tr>\n",
       "    <tr>\n",
       "      <th>18</th>\n",
       "      <td>esist</td>\n",
       "      <td>125633</td>\n",
       "    </tr>\n",
       "    <tr>\n",
       "      <th>19</th>\n",
       "      <td>fuckthealtright</td>\n",
       "      <td>121314</td>\n",
       "    </tr>\n",
       "    <tr>\n",
       "      <th>35</th>\n",
       "      <td>selfawarewolves</td>\n",
       "      <td>100306</td>\n",
       "    </tr>\n",
       "    <tr>\n",
       "      <th>12</th>\n",
       "      <td>communism</td>\n",
       "      <td>98701</td>\n",
       "    </tr>\n",
       "    <tr>\n",
       "      <th>15</th>\n",
       "      <td>enlightenedcentrism</td>\n",
       "      <td>93243</td>\n",
       "    </tr>\n",
       "    <tr>\n",
       "      <th>13</th>\n",
       "      <td>completeanarchy</td>\n",
       "      <td>93201</td>\n",
       "    </tr>\n",
       "    <tr>\n",
       "      <th>17</th>\n",
       "      <td>enoughtrumpspam</td>\n",
       "      <td>92591</td>\n",
       "    </tr>\n",
       "    <tr>\n",
       "      <th>21</th>\n",
       "      <td>keep_track</td>\n",
       "      <td>87981</td>\n",
       "    </tr>\n",
       "    <tr>\n",
       "      <th>25</th>\n",
       "      <td>marchagainsttrump</td>\n",
       "      <td>83088</td>\n",
       "    </tr>\n",
       "    <tr>\n",
       "      <th>29</th>\n",
       "      <td>political_revolution</td>\n",
       "      <td>81996</td>\n",
       "    </tr>\n",
       "    <tr>\n",
       "      <th>6</th>\n",
       "      <td>bluemidterm2018</td>\n",
       "      <td>75511</td>\n",
       "    </tr>\n",
       "    <tr>\n",
       "      <th>0</th>\n",
       "      <td>againsthatesubreddits</td>\n",
       "      <td>73238</td>\n",
       "    </tr>\n",
       "    <tr>\n",
       "      <th>24</th>\n",
       "      <td>liberal</td>\n",
       "      <td>70133</td>\n",
       "    </tr>\n",
       "    <tr>\n",
       "      <th>11</th>\n",
       "      <td>communism101</td>\n",
       "      <td>68703</td>\n",
       "    </tr>\n",
       "    <tr>\n",
       "      <th>7</th>\n",
       "      <td>breadtube</td>\n",
       "      <td>65675</td>\n",
       "    </tr>\n",
       "    <tr>\n",
       "      <th>38</th>\n",
       "      <td>toiletpaperusa</td>\n",
       "      <td>65249</td>\n",
       "    </tr>\n",
       "    <tr>\n",
       "      <th>20</th>\n",
       "      <td>impeach_trump</td>\n",
       "      <td>65084</td>\n",
       "    </tr>\n",
       "    <tr>\n",
       "      <th>32</th>\n",
       "      <td>progressive</td>\n",
       "      <td>60195</td>\n",
       "    </tr>\n",
       "    <tr>\n",
       "      <th>27</th>\n",
       "      <td>onguardforthee</td>\n",
       "      <td>57386</td>\n",
       "    </tr>\n",
       "    <tr>\n",
       "      <th>33</th>\n",
       "      <td>russialago</td>\n",
       "      <td>50792</td>\n",
       "    </tr>\n",
       "    <tr>\n",
       "      <th>40</th>\n",
       "      <td>voteblue</td>\n",
       "      <td>45717</td>\n",
       "    </tr>\n",
       "    <tr>\n",
       "      <th>28</th>\n",
       "      <td>ourpresident</td>\n",
       "      <td>43560</td>\n",
       "    </tr>\n",
       "    <tr>\n",
       "      <th>26</th>\n",
       "      <td>neoliberal</td>\n",
       "      <td>41584</td>\n",
       "    </tr>\n",
       "    <tr>\n",
       "      <th>36</th>\n",
       "      <td>shitliberalssay</td>\n",
       "      <td>40252</td>\n",
       "    </tr>\n",
       "    <tr>\n",
       "      <th>10</th>\n",
       "      <td>circlebroke</td>\n",
       "      <td>37348</td>\n",
       "    </tr>\n",
       "    <tr>\n",
       "      <th>3</th>\n",
       "      <td>antiwork</td>\n",
       "      <td>33697</td>\n",
       "    </tr>\n",
       "    <tr>\n",
       "      <th>41</th>\n",
       "      <td>wayofthebern</td>\n",
       "      <td>32536</td>\n",
       "    </tr>\n",
       "    <tr>\n",
       "      <th>5</th>\n",
       "      <td>bannedfromthe_donald</td>\n",
       "      <td>31600</td>\n",
       "    </tr>\n",
       "    <tr>\n",
       "      <th>9</th>\n",
       "      <td>chomsky</td>\n",
       "      <td>29904</td>\n",
       "    </tr>\n",
       "    <tr>\n",
       "      <th>2</th>\n",
       "      <td>anarchy101</td>\n",
       "      <td>29047</td>\n",
       "    </tr>\n",
       "    <tr>\n",
       "      <th>42</th>\n",
       "      <td>yangforpresidenthq</td>\n",
       "      <td>28081</td>\n",
       "    </tr>\n",
       "    <tr>\n",
       "      <th>16</th>\n",
       "      <td>enoughlibertarianspam</td>\n",
       "      <td>25485</td>\n",
       "    </tr>\n",
       "    <tr>\n",
       "      <th>14</th>\n",
       "      <td>debatecommunism</td>\n",
       "      <td>23875</td>\n",
       "    </tr>\n",
       "    <tr>\n",
       "      <th>23</th>\n",
       "      <td>leftwithoutedge</td>\n",
       "      <td>19265</td>\n",
       "    </tr>\n",
       "    <tr>\n",
       "      <th>4</th>\n",
       "      <td>antifascistsofreddit</td>\n",
       "      <td>18145</td>\n",
       "    </tr>\n",
       "  </tbody>\n",
       "</table>\n",
       "</div>"
      ],
      "text/plain": [
       "                subreddit  subscriber count\n",
       "31               politics           5264280\n",
       "30         politicalhumor            728425\n",
       "22    latestagecapitalism            434720\n",
       "34    sandersforpresident            267497\n",
       "39       topmindsofreddit            205889\n",
       "37              socialism            201859\n",
       "1               anarchism            135122\n",
       "8          chapotraphouse            128663\n",
       "18                  esist            125633\n",
       "19        fuckthealtright            121314\n",
       "35        selfawarewolves            100306\n",
       "12              communism             98701\n",
       "15    enlightenedcentrism             93243\n",
       "13        completeanarchy             93201\n",
       "17        enoughtrumpspam             92591\n",
       "21             keep_track             87981\n",
       "25      marchagainsttrump             83088\n",
       "29   political_revolution             81996\n",
       "6         bluemidterm2018             75511\n",
       "0   againsthatesubreddits             73238\n",
       "24                liberal             70133\n",
       "11           communism101             68703\n",
       "7               breadtube             65675\n",
       "38         toiletpaperusa             65249\n",
       "20          impeach_trump             65084\n",
       "32            progressive             60195\n",
       "27         onguardforthee             57386\n",
       "33             russialago             50792\n",
       "40               voteblue             45717\n",
       "28           ourpresident             43560\n",
       "26             neoliberal             41584\n",
       "36        shitliberalssay             40252\n",
       "10            circlebroke             37348\n",
       "3                antiwork             33697\n",
       "41           wayofthebern             32536\n",
       "5    bannedfromthe_donald             31600\n",
       "9                 chomsky             29904\n",
       "2              anarchy101             29047\n",
       "42     yangforpresidenthq             28081\n",
       "16  enoughlibertarianspam             25485\n",
       "14        debatecommunism             23875\n",
       "23        leftwithoutedge             19265\n",
       "4    antifascistsofreddit             18145"
      ]
     },
     "execution_count": 95,
     "metadata": {},
     "output_type": "execute_result"
    }
   ],
   "source": [
    "liberal_df = pd.DataFrame([('againsthatesubreddits', 73238), ('anarchism', 135122), ('anarchy101', 29047), \n",
    "                           ('antiwork', 33697), ('antifascistsofreddit', 18145), ('bannedfromthe_donald', 31600), \n",
    "                           ('bluemidterm2018', 75511), ('breadtube', 65675), ('chapotraphouse', 128663), ('chomsky', 29904), \n",
    "                           ('circlebroke', 37348), ('communism101', 68703), ('communism', 98701), ('completeanarchy', 93201), \n",
    "                           ('debatecommunism', 23875), ('enlightenedcentrism', 93243), ('enoughlibertarianspam', 25485), \n",
    "                           ('enoughtrumpspam', 92591), ('esist', 125633), ('fuckthealtright', 121314), ('impeach_trump', 65084), \n",
    "                           ('keep_track', 87981), ('latestagecapitalism', 434720), ('leftwithoutedge', 19265), \n",
    "                           ('liberal', 70133), ('marchagainsttrump', 83088), ('neoliberal', 41584), ('onguardforthee', 57386), \n",
    "                           ('ourpresident', 43560), ('political_revolution', 81996), ('politicalhumor', 728425), \n",
    "                           ('politics', 5264280), ('progressive', 60195), ('russialago', 50792), \n",
    "                           ('sandersforpresident', 267497), ('selfawarewolves', 100306), ('shitliberalssay', 40252), \n",
    "                           ('socialism', 201859), ('toiletpaperusa', 65249), ('topmindsofreddit', 205889), ('voteblue', 45717), \n",
    "                           ('wayofthebern', 32536), ('yangforpresidenthq', 28081)], columns=('subreddit', 'subscriber count'))\n",
    "\n",
    "liberal_df_sorted = liberal_df.sort_values('subscriber count', ascending=False)\n",
    "liberal_df_sorted"
   ]
  },
  {
   "cell_type": "code",
   "execution_count": null,
   "metadata": {},
   "outputs": [],
   "source": []
  }
 ],
 "metadata": {
  "kernelspec": {
   "display_name": "Python [conda env:PythonData] *",
   "language": "python",
   "name": "conda-env-PythonData-py"
  },
  "language_info": {
   "codemirror_mode": {
    "name": "ipython",
    "version": 3
   },
   "file_extension": ".py",
   "mimetype": "text/x-python",
   "name": "python",
   "nbconvert_exporter": "python",
   "pygments_lexer": "ipython3",
   "version": "3.6.8"
  }
 },
 "nbformat": 4,
 "nbformat_minor": 2
}
